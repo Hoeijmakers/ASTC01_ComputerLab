import TransitSimulator
import numpy as np

sys1 = TransitSimulator.System('WASP-121b', 1.183, 1.865, 3.34, 0.0558, 1.45, 1.5, 0,  np.pi / 2., 0)

sys1.TransitParams()
sys1.Transit()
