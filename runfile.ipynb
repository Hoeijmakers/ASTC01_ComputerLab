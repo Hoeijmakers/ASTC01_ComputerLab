{
 "cells": [
  {
   "cell_type": "code",
   "execution_count": 1,
   "metadata": {},
   "outputs": [
    {
     "ename": "ModuleNotFoundError",
     "evalue": "No module named 'TransitSimulator'",
     "output_type": "error",
     "traceback": [
      "\u001b[0;31m---------------------------------------------------------------------------\u001b[0m",
      "\u001b[0;31mModuleNotFoundError\u001b[0m                       Traceback (most recent call last)",
      "\u001b[0;32m<ipython-input-1-863f90007439>\u001b[0m in \u001b[0;36m<module>\u001b[0;34m\u001b[0m\n\u001b[0;32m----> 1\u001b[0;31m \u001b[0;32mimport\u001b[0m \u001b[0mTransitSimulator\u001b[0m\u001b[0;34m\u001b[0m\u001b[0;34m\u001b[0m\u001b[0m\n\u001b[0m\u001b[1;32m      2\u001b[0m \u001b[0;32mimport\u001b[0m \u001b[0mnumpy\u001b[0m \u001b[0;32mas\u001b[0m \u001b[0mnp\u001b[0m\u001b[0;34m\u001b[0m\u001b[0;34m\u001b[0m\u001b[0m\n",
      "\u001b[0;31mModuleNotFoundError\u001b[0m: No module named 'TransitSimulator'"
     ]
    }
   ],
   "source": [
    "import TransitSimulator\n",
    "import numpy as np"
   ]
  },
  {
   "cell_type": "code",
   "execution_count": 2,
   "metadata": {},
   "outputs": [
    {
     "ename": "NameError",
     "evalue": "name 'np' is not defined",
     "output_type": "error",
     "traceback": [
      "\u001b[0;31m---------------------------------------------------------------------------\u001b[0m",
      "\u001b[0;31mNameError\u001b[0m                                 Traceback (most recent call last)",
      "\u001b[0;32m<ipython-input-2-8a65e484e192>\u001b[0m in \u001b[0;36m<module>\u001b[0;34m\u001b[0m\n\u001b[1;32m     12\u001b[0m \u001b[0mpl_semi\u001b[0m \u001b[0;34m=\u001b[0m \u001b[0;36m0.0558\u001b[0m                 \u001b[0;31m# semi-major axis of the planet - star system in AU\u001b[0m\u001b[0;34m\u001b[0m\u001b[0;34m\u001b[0m\u001b[0m\n\u001b[1;32m     13\u001b[0m \u001b[0mecc\u001b[0m \u001b[0;34m=\u001b[0m \u001b[0;36m0\u001b[0m                          \u001b[0;31m# eccentricity of the orbit, ecc is between 0 and 1\u001b[0m\u001b[0;34m\u001b[0m\u001b[0;34m\u001b[0m\u001b[0m\n\u001b[0;32m---> 14\u001b[0;31m \u001b[0mincl\u001b[0m \u001b[0;34m=\u001b[0m \u001b[0mnp\u001b[0m\u001b[0;34m.\u001b[0m\u001b[0mpi\u001b[0m \u001b[0;34m/\u001b[0m \u001b[0;36m2.\u001b[0m                \u001b[0;31m# π / 2 = 90, seen edge on\u001b[0m\u001b[0;34m\u001b[0m\u001b[0;34m\u001b[0m\u001b[0m\n\u001b[0m\u001b[1;32m     15\u001b[0m \u001b[0mlong\u001b[0m \u001b[0;34m=\u001b[0m \u001b[0;36m0\u001b[0m                         \u001b[0;31m# line of sight from the observer\u001b[0m\u001b[0;34m\u001b[0m\u001b[0;34m\u001b[0m\u001b[0m\n\u001b[1;32m     16\u001b[0m \u001b[0;34m\u001b[0m\u001b[0m\n",
      "\u001b[0;31mNameError\u001b[0m: name 'np' is not defined"
     ]
    }
   ],
   "source": [
    "### Definition of parameters (Here you can play around!)\n",
    "\n",
    "# Planetary Parameters\n",
    "\n",
    "pl_name = 'WASP-121b'\n",
    "pl_mass = 1.183                  # planetary mass in Jupiter masses\n",
    "pl_radius = 1.865                # planetary radius in Jupiter radii\n",
    "\n",
    "# Orbital parameters\n",
    "\n",
    "pl_period = 3.34                 # period in days\n",
    "pl_semi = 0.0558                 # semi-major axis of the planet - star system in AU\n",
    "ecc = 0                          # eccentricity of the orbit, ecc is between 0 and 1\n",
    "incl = np.pi / 2.                # π / 2 = 90, seen edge on\n",
    "long = 0                         # line of sight from the observer\n",
    "\n",
    "# Stellar Parameters \n",
    " \n",
    "st_mass = 1.45                   # in solar masses\n",
    "st_radius = 1.5                  # in solar radii\n",
    "\n",
    "\n",
    "\n",
    "##############################################################\n",
    "# After changing parameters you have to re-run this cell.    #\n",
    "# Otherwise the system is still based on the old parameters! #\n",
    "##############################################################"
   ]
  },
  {
   "cell_type": "code",
   "execution_count": null,
   "metadata": {},
   "outputs": [],
   "source": [
    "### Creating the system and plotting the transit. (Don't change anything here!)\n",
    "\n",
    "sys1 = TransitSimulator.System(pl_name, pl_mass, pl_radius, pl_period, pl_semi, st_mass, st_radius, ecc, incl, long)\n",
    "sys1.TransitParams()\n",
    "sys1.Transit()"
   ]
  }
 ],
 "metadata": {
  "kernelspec": {
   "display_name": "Python 3",
   "language": "python",
   "name": "python3"
  },
  "language_info": {
   "codemirror_mode": {
    "name": "ipython",
    "version": 3
   },
   "file_extension": ".py",
   "mimetype": "text/x-python",
   "name": "python",
   "nbconvert_exporter": "python",
   "pygments_lexer": "ipython3",
   "version": "3.8.6"
  }
 },
 "nbformat": 4,
 "nbformat_minor": 4
}
